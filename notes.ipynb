{
 "cells": [
  {
   "cell_type": "markdown",
   "metadata": {},
   "source": [
    "# styling feedback\n",
    "- Type your message\n",
    "- New line automatic sizing on textarea\n",
    "- textarea and buttons should have same radius\n",
    "- make the bubble different colour for different userAgentFromString\n",
    "- more sacing between chat area and form\n",
    "- chat bubbles spacing around should be even \n",
    "- right hand stats area "
   ]
  }
 ],
 "metadata": {
  "language_info": {
   "name": "python"
  }
 },
 "nbformat": 4,
 "nbformat_minor": 2
}
